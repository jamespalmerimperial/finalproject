{
 "cells": [
  {
   "cell_type": "raw",
   "id": "70221ca7-d0b5-4b8f-94d4-1def964e3133",
   "metadata": {},
   "source": [
    "*** Jamie Palmer portfolio project***\n"
   ]
  },
  {
   "cell_type": "markdown",
   "id": "8760945d-7bf8-4c10-8324-bb244764ddfe",
   "metadata": {},
   "source": [
    "In this notebook I will use the HEBO package to perform bayesian optimisation in order to tune the parameters of a random forest regressor  to predict house sale prices.\n"
   ]
  },
  {
   "cell_type": "markdown",
   "id": "efb5951c-e597-4d22-af11-0cba21673a4c",
   "metadata": {},
   "source": [
    "Step 1. import packages\n"
   ]
  },
  {
   "cell_type": "code",
   "execution_count": 15,
   "id": "3f1ffe0f-28ca-44c9-b054-b70a68100d22",
   "metadata": {},
   "outputs": [],
   "source": [
    "import sys\n",
    "sys.path.append('../')\n",
    "import pandas as pd\n",
    "import numpy  as np\n",
    "import torch\n",
    "from hebo.design_space.design_space import DesignSpace\n",
    "from hebo.optimizers.hebo import HEBO\n",
    "from sklearn.ensemble import RandomForestRegressor\n",
    "from sklearn.metrics import r2_score, mean_squared_error\n",
    "from hebo.sklearn_tuner import sklearn_tuner\n",
    "from sklearn.model_selection import train_test_split\n",
    "import warnings\n",
    "warnings.filterwarnings(\"ignore\")"
   ]
  },
  {
   "cell_type": "markdown",
   "id": "8193960f-48f5-4eaf-b00b-3e29df15d192",
   "metadata": {},
   "source": [
    "Step 2. load dataset"
   ]
  },
  {
   "cell_type": "code",
   "execution_count": 44,
   "id": "b2ab9946-7c9e-44ff-b8b9-65d0151c3a63",
   "metadata": {},
   "outputs": [
    {
     "data": {
      "text/html": [
       "<div>\n",
       "<style scoped>\n",
       "    .dataframe tbody tr th:only-of-type {\n",
       "        vertical-align: middle;\n",
       "    }\n",
       "\n",
       "    .dataframe tbody tr th {\n",
       "        vertical-align: top;\n",
       "    }\n",
       "\n",
       "    .dataframe thead th {\n",
       "        text-align: right;\n",
       "    }\n",
       "</style>\n",
       "<table border=\"1\" class=\"dataframe\">\n",
       "  <thead>\n",
       "    <tr style=\"text-align: right;\">\n",
       "      <th></th>\n",
       "      <th>id</th>\n",
       "      <th>date</th>\n",
       "      <th>price</th>\n",
       "      <th>bedrooms</th>\n",
       "      <th>bathrooms</th>\n",
       "      <th>sqft_living</th>\n",
       "      <th>sqft_lot</th>\n",
       "      <th>floors</th>\n",
       "      <th>waterfront</th>\n",
       "      <th>view</th>\n",
       "      <th>...</th>\n",
       "      <th>grade</th>\n",
       "      <th>sqft_above</th>\n",
       "      <th>sqft_basement</th>\n",
       "      <th>yr_built</th>\n",
       "      <th>yr_renovated</th>\n",
       "      <th>zipcode</th>\n",
       "      <th>lat</th>\n",
       "      <th>long</th>\n",
       "      <th>sqft_living15</th>\n",
       "      <th>sqft_lot15</th>\n",
       "    </tr>\n",
       "  </thead>\n",
       "  <tbody>\n",
       "    <tr>\n",
       "      <th>0</th>\n",
       "      <td>7129300520</td>\n",
       "      <td>20141013T000000</td>\n",
       "      <td>221900.0</td>\n",
       "      <td>3</td>\n",
       "      <td>1.00</td>\n",
       "      <td>1180</td>\n",
       "      <td>5650</td>\n",
       "      <td>1.0</td>\n",
       "      <td>0</td>\n",
       "      <td>0</td>\n",
       "      <td>...</td>\n",
       "      <td>7</td>\n",
       "      <td>1180</td>\n",
       "      <td>0</td>\n",
       "      <td>1955</td>\n",
       "      <td>0</td>\n",
       "      <td>98178</td>\n",
       "      <td>47.5112</td>\n",
       "      <td>-122.257</td>\n",
       "      <td>1340</td>\n",
       "      <td>5650</td>\n",
       "    </tr>\n",
       "    <tr>\n",
       "      <th>1</th>\n",
       "      <td>6414100192</td>\n",
       "      <td>20141209T000000</td>\n",
       "      <td>538000.0</td>\n",
       "      <td>3</td>\n",
       "      <td>2.25</td>\n",
       "      <td>2570</td>\n",
       "      <td>7242</td>\n",
       "      <td>2.0</td>\n",
       "      <td>0</td>\n",
       "      <td>0</td>\n",
       "      <td>...</td>\n",
       "      <td>7</td>\n",
       "      <td>2170</td>\n",
       "      <td>400</td>\n",
       "      <td>1951</td>\n",
       "      <td>1991</td>\n",
       "      <td>98125</td>\n",
       "      <td>47.7210</td>\n",
       "      <td>-122.319</td>\n",
       "      <td>1690</td>\n",
       "      <td>7639</td>\n",
       "    </tr>\n",
       "    <tr>\n",
       "      <th>2</th>\n",
       "      <td>5631500400</td>\n",
       "      <td>20150225T000000</td>\n",
       "      <td>180000.0</td>\n",
       "      <td>2</td>\n",
       "      <td>1.00</td>\n",
       "      <td>770</td>\n",
       "      <td>10000</td>\n",
       "      <td>1.0</td>\n",
       "      <td>0</td>\n",
       "      <td>0</td>\n",
       "      <td>...</td>\n",
       "      <td>6</td>\n",
       "      <td>770</td>\n",
       "      <td>0</td>\n",
       "      <td>1933</td>\n",
       "      <td>0</td>\n",
       "      <td>98028</td>\n",
       "      <td>47.7379</td>\n",
       "      <td>-122.233</td>\n",
       "      <td>2720</td>\n",
       "      <td>8062</td>\n",
       "    </tr>\n",
       "    <tr>\n",
       "      <th>3</th>\n",
       "      <td>2487200875</td>\n",
       "      <td>20141209T000000</td>\n",
       "      <td>604000.0</td>\n",
       "      <td>4</td>\n",
       "      <td>3.00</td>\n",
       "      <td>1960</td>\n",
       "      <td>5000</td>\n",
       "      <td>1.0</td>\n",
       "      <td>0</td>\n",
       "      <td>0</td>\n",
       "      <td>...</td>\n",
       "      <td>7</td>\n",
       "      <td>1050</td>\n",
       "      <td>910</td>\n",
       "      <td>1965</td>\n",
       "      <td>0</td>\n",
       "      <td>98136</td>\n",
       "      <td>47.5208</td>\n",
       "      <td>-122.393</td>\n",
       "      <td>1360</td>\n",
       "      <td>5000</td>\n",
       "    </tr>\n",
       "    <tr>\n",
       "      <th>4</th>\n",
       "      <td>1954400510</td>\n",
       "      <td>20150218T000000</td>\n",
       "      <td>510000.0</td>\n",
       "      <td>3</td>\n",
       "      <td>2.00</td>\n",
       "      <td>1680</td>\n",
       "      <td>8080</td>\n",
       "      <td>1.0</td>\n",
       "      <td>0</td>\n",
       "      <td>0</td>\n",
       "      <td>...</td>\n",
       "      <td>8</td>\n",
       "      <td>1680</td>\n",
       "      <td>0</td>\n",
       "      <td>1987</td>\n",
       "      <td>0</td>\n",
       "      <td>98074</td>\n",
       "      <td>47.6168</td>\n",
       "      <td>-122.045</td>\n",
       "      <td>1800</td>\n",
       "      <td>7503</td>\n",
       "    </tr>\n",
       "  </tbody>\n",
       "</table>\n",
       "<p>5 rows × 21 columns</p>\n",
       "</div>"
      ],
      "text/plain": [
       "           id             date     price  bedrooms  bathrooms  sqft_living  \\\n",
       "0  7129300520  20141013T000000  221900.0         3       1.00         1180   \n",
       "1  6414100192  20141209T000000  538000.0         3       2.25         2570   \n",
       "2  5631500400  20150225T000000  180000.0         2       1.00          770   \n",
       "3  2487200875  20141209T000000  604000.0         4       3.00         1960   \n",
       "4  1954400510  20150218T000000  510000.0         3       2.00         1680   \n",
       "\n",
       "   sqft_lot  floors  waterfront  view  ...  grade  sqft_above  sqft_basement  \\\n",
       "0      5650     1.0           0     0  ...      7        1180              0   \n",
       "1      7242     2.0           0     0  ...      7        2170            400   \n",
       "2     10000     1.0           0     0  ...      6         770              0   \n",
       "3      5000     1.0           0     0  ...      7        1050            910   \n",
       "4      8080     1.0           0     0  ...      8        1680              0   \n",
       "\n",
       "   yr_built  yr_renovated  zipcode      lat     long  sqft_living15  \\\n",
       "0      1955             0    98178  47.5112 -122.257           1340   \n",
       "1      1951          1991    98125  47.7210 -122.319           1690   \n",
       "2      1933             0    98028  47.7379 -122.233           2720   \n",
       "3      1965             0    98136  47.5208 -122.393           1360   \n",
       "4      1987             0    98074  47.6168 -122.045           1800   \n",
       "\n",
       "   sqft_lot15  \n",
       "0        5650  \n",
       "1        7639  \n",
       "2        8062  \n",
       "3        5000  \n",
       "4        7503  \n",
       "\n",
       "[5 rows x 21 columns]"
      ]
     },
     "execution_count": 44,
     "metadata": {},
     "output_type": "execute_result"
    }
   ],
   "source": [
    "df = pd.read_csv('kc_house_data.csv')\n",
    "df.head()"
   ]
  },
  {
   "cell_type": "markdown",
   "id": "2a754146-cf12-47e4-85a2-d80974a39871",
   "metadata": {},
   "source": [
    "Step 3. process dataset before data analysis\n"
   ]
  },
  {
   "cell_type": "code",
   "execution_count": 45,
   "id": "2a235003-a8b1-40b5-86d8-07b8ed9c3791",
   "metadata": {},
   "outputs": [],
   "source": [
    "#convert dataframe to numeric values\n",
    "\n",
    "df['date'] = pd.to_datetime(df['date'], format='%Y%m%dT%H%M%S')\n",
    "df['days_since_Jan1st2000'] = (df['date'] - pd.Timestamp('2000-01-01')).dt.days\n",
    "df = df.drop('date', axis=1)\n",
    "for col in df.columns:\n",
    "    df[col] = pd.to_numeric(df[col], errors='ignore')\n",
    "#place price outcome as last column\n",
    "columns = df.columns.to_list()\n",
    "columns.remove('price')\n",
    "df = df[columns + ['price']]\n",
    "# create training and test sets with 99% in training, 1% in test\n",
    "Xy=np.array(df)\n",
    "X=Xy[:,:-1]\n",
    "y=Xy[:,-1]\n",
    "X_train, X_test, y_train, y_test = train_test_split(X, y, test_size=0.01, random_state=20)\n"
   ]
  },
  {
   "cell_type": "markdown",
   "id": "8f756b96-17a6-482f-baa9-0a26b4ae5d6c",
   "metadata": {},
   "source": [
    "Step 4. create the search space for the hyperparameters of the random forest regressor "
   ]
  },
  {
   "cell_type": "code",
   "execution_count": 46,
   "id": "36aaa5ab-5b6e-4cc7-b781-1ae4d948cf90",
   "metadata": {},
   "outputs": [],
   "source": [
    "space_rf = [\n",
    "    {'name' : 'max_depth', 'type' : 'int', 'lb' : 1, 'ub' : 20},\n",
    "    {'name' : 'min_samples_leaf', 'type' : 'num', 'lb' : 1e-4, 'ub' : 0.5},\n",
    "    {'name' : 'max_features', 'type' : 'cat', 'categories' : [ 'sqrt', 'log2']},\n",
    "    {'name' : 'bootstrap', 'type' : 'bool'},\n",
    "    {'name' : 'min_impurity_decrease', 'type' : 'pow', 'lb' : 1e-4, 'ub' : 1.0},\n",
    "]"
   ]
  },
  {
   "cell_type": "markdown",
   "id": "c2ef44fa-49b7-4647-94b4-ee63f7e46916",
   "metadata": {},
   "source": [
    "Step 5. Tune the random forest regressor model with the HEBO tuner"
   ]
  },
  {
   "cell_type": "code",
   "execution_count": 48,
   "id": "7438aafc-a9d3-4612-9b27-10f077eba971",
   "metadata": {},
   "outputs": [
    {
     "name": "stdout",
     "output_type": "stream",
     "text": [
      "Iter 0, best metric: 0.304875\n",
      "Iter 1, best metric: 0.530789\n",
      "Iter 2, best metric: 0.530789\n",
      "Iter 3, best metric: 0.530789\n",
      "Iter 4, best metric: 0.530789\n",
      "Iter 5, best metric: 0.530789\n",
      "Iter 6, best metric: 0.530789\n",
      "Iter 7, best metric: 0.530789\n",
      "Iter 8, best metric: 0.622292\n",
      "Iter 9, best metric: 0.753243\n",
      "Iter 10, best metric: 0.769291\n",
      "Iter 11, best metric: 0.855799\n"
     ]
    }
   ],
   "source": [
    "result = sklearn_tuner(RandomForestRegressor, space_rf, X_train, y_train, metric=r2_score, max_iter=12)"
   ]
  },
  {
   "cell_type": "markdown",
   "id": "aeacc80f-a87b-41c6-a04f-21b59cbef53c",
   "metadata": {},
   "source": [
    "Step 6. train a random forest regressor model with the tuned hyper parameters on the training set , then test the final tuned model on the test set\n"
   ]
  },
  {
   "cell_type": "code",
   "execution_count": 52,
   "id": "5fba3428-5f59-4b0c-8ac4-8a3fef91cbc9",
   "metadata": {},
   "outputs": [
    {
     "name": "stdout",
     "output_type": "stream",
     "text": [
      "R^2 coefficient of tuned, trained regression model is 0.8532793000391117\n"
     ]
    }
   ],
   "source": [
    "#create model with tuned hyper parameters\n",
    "model = RandomForestRegressor(max_depth = result['max_depth'],min_samples_leaf = result['min_samples_leaf'],bootstrap = result['bootstrap'],min_impurity_decrease = result['min_impurity_decrease'],max_features = result['max_features'])\n",
    "model.fit(X_train, y_train)\n",
    "\n",
    "# create tuned, trained model predictions for test set\n",
    "y_pred = model.predict(X_test)\n",
    "\n",
    "# test the  performance of the tuned , trained model on the test set\n",
    "mse = mean_squared_error(y_test, y_pred)\n",
    "r2 = r2_score(y_test, y_pred)\n",
    "\n",
    "print(\"R^2 coefficient of tuned, trained regression model is\", r2)\n"
   ]
  },
  {
   "cell_type": "code",
   "execution_count": null,
   "id": "ce67da08-cb47-4dae-971a-6ca4911b72cc",
   "metadata": {},
   "outputs": [],
   "source": []
  }
 ],
 "metadata": {
  "kernelspec": {
   "display_name": "Python 3 (ipykernel)",
   "language": "python",
   "name": "python3"
  },
  "language_info": {
   "codemirror_mode": {
    "name": "ipython",
    "version": 3
   },
   "file_extension": ".py",
   "mimetype": "text/x-python",
   "name": "python",
   "nbconvert_exporter": "python",
   "pygments_lexer": "ipython3",
   "version": "3.9.7"
  }
 },
 "nbformat": 4,
 "nbformat_minor": 5
}
